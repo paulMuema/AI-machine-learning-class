{
 "cells": [
  {
   "cell_type": "code",
   "execution_count": 5,
   "id": "6e422697",
   "metadata": {},
   "outputs": [
    {
     "name": "stdout",
     "output_type": "stream",
     "text": [
      "----Exploration Venture  0 -------\n",
      "{'A': 1, 'B': 1, 'C': 1, 'D': 0}\n",
      "Rover is in location.  A\n",
      "A Rocks sampled\n",
      "B Rocks sampled\n",
      "C Rocks sampled\n",
      "D has no rocks\n",
      "{'A': 1, 'B': 1, 'C': 1, 'D': 0}\n",
      "----Exploration Venture  1 -------\n",
      "{'A': 1, 'B': 1, 'C': 1, 'D': 1}\n",
      "Rover is in location.  C\n",
      "C Rocks sampled\n",
      "D Rocks sampled\n",
      "A Rocks sampled\n",
      "B Rocks sampled\n",
      "{'A': 1, 'B': 1, 'C': 1, 'D': 1}\n"
     ]
    }
   ],
   "source": [
    "import random\n",
    "class environment(object):\n",
    "    def __init__(self):\n",
    "        self.location = [\"A\", \"B\", \"C\", \"D\"]\n",
    "        self.locationexploration = {\"A\":\"0\", \"B\":\"0\", \"C\":\"0\", \"D\":\"0\"}\n",
    "        self.locationexploration [\"A\"] = random.randint (0, 1)\n",
    "        self.locationexploration [\"B\"] = random.randint (0, 1)\n",
    "        self.locationexploration [\"C\"] = random.randint (0, 1)\n",
    "        self.locationexploration [\"D\"] = random.randint (0, 1)\n",
    "        self.roverlocation = random.choice(self.location)\n",
    "        \n",
    "class agent (environment):\n",
    "    def __init__(self, environment):\n",
    "        print (environment.locationexploration)\n",
    "        print (\"Rover is in location. \", environment.roverlocation)\n",
    "        count = 0\n",
    "        while count < 4:\n",
    "            if (environment.locationexploration [environment.roverlocation] == 1):\n",
    "                print (environment.roverlocation, \"Rocks sampled\")\n",
    "            else:\n",
    "                print (environment.roverlocation, \"has no rocks\")\n",
    "            newindex = environment.location.index (environment.roverlocation) + 1\n",
    "            if (newindex == 4):\n",
    "                newindex = 0 \n",
    "            environment.roverlocation = environment.location [newindex]\n",
    "            count = count + 1\n",
    "        print(environment.locationexploration)\n",
    "\n",
    "x = 0\n",
    "while (x<2):\n",
    "    print(\"----Exploration Venture \" ,x, \"-------\")\n",
    "    e1 = environment()\n",
    "    a1 = agent(e1)\n",
    "    x+=1\n",
    "        "
   ]
  },
  {
   "cell_type": "code",
   "execution_count": null,
   "id": "36da58ad",
   "metadata": {},
   "outputs": [],
   "source": []
  }
 ],
 "metadata": {
  "kernelspec": {
   "display_name": "Python 3 (ipykernel)",
   "language": "python",
   "name": "python3"
  },
  "language_info": {
   "codemirror_mode": {
    "name": "ipython",
    "version": 3
   },
   "file_extension": ".py",
   "mimetype": "text/x-python",
   "name": "python",
   "nbconvert_exporter": "python",
   "pygments_lexer": "ipython3",
   "version": "3.10.9"
  }
 },
 "nbformat": 4,
 "nbformat_minor": 5
}
