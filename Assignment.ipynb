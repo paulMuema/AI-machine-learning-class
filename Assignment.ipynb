{
 "cells": [
  {
   "cell_type": "code",
   "execution_count": 31,
   "id": "e5f9800e",
   "metadata": {},
   "outputs": [
    {
     "name": "stdout",
     "output_type": "stream",
     "text": [
      "Is vomiting associated with Tuberculosis?\n",
      "No\n",
      "Are vomiting and High Fever associated with Tuberculosis?\n",
      "No\n",
      "What are Tuberculosis symptoms?\n",
      "()\n",
      "Which emergency diseases have vomiting as a symptom?\n",
      "()\n",
      "# Which emergency diseases have vomiting and High Fever as symptoms?\n",
      "()\n",
      "What are the common Symptoms of Tuberculosis and the Common Cold?\n",
      "()\n",
      "What are the different Symptoms of Tuberculosis and the Common Cold?\n",
      "()\n"
     ]
    }
   ],
   "source": [
    "from kanren import *\n",
    "\n",
    "diseases = Relation()\n",
    "symptoms  = Relation()\n",
    "associated = Relation()\n",
    "\n",
    "#Create a dataset - all diseases\n",
    "emergency_diseases = 'Pneumonia,Heart Attack,Drug Reaction,Hyper Tension,Common Cold,Jaundice,Malaria,Chickenpox,Dengue,Typhoid,Tuberculosis,Paralysis'.split(',')\n",
    "symptoms = 'Vomiting,High Fever'.split(',')\n",
    "\n",
    "#Create facts from it\n",
    "for disease in emergency_diseases:\n",
    "    fact(diseases, disease)\n",
    "\n",
    "#use exisiting dataset - that contains allthe disesases and associated symptoms\n",
    "with open('diagnosis.csv') as f: \n",
    "    adjlist = [line.strip().split(',') for line in f\n",
    "                                       if line and line[0].isalpha()]\n",
    "\n",
    "#Create facts from it\n",
    "for data in emergency_diseases:\n",
    "    disease = data[0]\n",
    "    symptoms = data[1:]\n",
    "    for symptom in tail:\n",
    "        fact(associated, disease, symptoms)\n",
    "x = var()\n",
    "y = var()\n",
    "z=var('Yes')\n",
    "\n",
    "print(\"Is vomiting associated with Tuberculosis?\")\n",
    "if(bool(run(0, x, associated('Vomiting', 'Tuberculosis')))==True):\n",
    "    print(\"Yes\") \n",
    "else:\n",
    "    print(\"No\") \n",
    "\n",
    "print(\"Are vomiting and High Fever associated with Tuberculosis?\")\n",
    "if(bool(run(0, x, associated('Vomiting', 'High Fever', 'Tuberculosis')))==True):\n",
    "    print(\"Yes\") \n",
    "else:\n",
    "    print(\"No\") \n",
    "\n",
    "print(\"What are Tuberculosis symptoms?\")\n",
    "print((run(0, x, associated('Tuberculosis', x))))    \n",
    "\n",
    "print(\"Which emergency diseases have vomiting as a symptom?\")\n",
    "print((run(0, x, associated('Vomiting', x), diseases(x))))\n",
    "\n",
    "print(\"# Which emergency diseases have vomiting and High Fever as symptoms?\")\n",
    "print((run(5, x, associated('Vomiting',x), associated('High Fever', x))))\n",
    "\n",
    "print(\"What are the common Symptoms of Tuberculosis and the Common Cold?\")\n",
    "print((run(0, x, associated('Tuberculosis', x), associated('Common Cold', x))))\n",
    "\n",
    "print(\"What are the different Symptoms of Tuberculosis and the Common Cold?\")\n",
    "print((run(0, x, associated('Tuberculosis', x), associated('Common Cold', x))))"
   ]
  },
  {
   "cell_type": "code",
   "execution_count": null,
   "id": "7493b6e3",
   "metadata": {},
   "outputs": [],
   "source": []
  }
 ],
 "metadata": {
  "kernelspec": {
   "display_name": "Python 3 (ipykernel)",
   "language": "python",
   "name": "python3"
  },
  "language_info": {
   "codemirror_mode": {
    "name": "ipython",
    "version": 3
   },
   "file_extension": ".py",
   "mimetype": "text/x-python",
   "name": "python",
   "nbconvert_exporter": "python",
   "pygments_lexer": "ipython3",
   "version": "3.10.9"
  }
 },
 "nbformat": 4,
 "nbformat_minor": 5
}
