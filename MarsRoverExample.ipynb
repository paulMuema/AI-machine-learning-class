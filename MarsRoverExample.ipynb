{
 "cells": [
  {
   "cell_type": "code",
   "execution_count": 1,
   "id": "4735f88b-01b6-45a4-b7e6-8916069eb6c0",
   "metadata": {},
   "outputs": [
    {
     "name": "stdout",
     "output_type": "stream",
     "text": [
      "Moving forward...\n",
      "Rock picked up! Total rocks collected: 1\n",
      "Moving forward...\n",
      "Rock picked up! Total rocks collected: 2\n",
      "Moving forward...\n",
      "Rock picked up! Total rocks collected: 3\n",
      "Moving forward...\n",
      "Rock picked up! Total rocks collected: 4\n",
      "Rock picked up! Total rocks collected: 5\n",
      "Rock picked up! Total rocks collected: 6\n"
     ]
    }
   ],
   "source": [
    "import random\n",
    "\n",
    "class MarsRoverAgent:\n",
    "    def __init__(self):\n",
    "        self.rocks_collected = 0\n",
    "\n",
    "    def sense_environment(self):\n",
    "        # Simulated sensing of the environment, such as rock locations, terrain, etc.\n",
    "        return random.choice(['rock', 'no_rock'])\n",
    "\n",
    "    def take_action(self, sensed_environment):\n",
    "        if sensed_environment == 'rock':\n",
    "            self.pick_rock()\n",
    "        else:\n",
    "            self.move_forward()\n",
    "\n",
    "    def pick_rock(self):\n",
    "        # Simulated action of picking up a rock\n",
    "        self.rocks_collected += 1\n",
    "        print(\"Rock picked up! Total rocks collected:\", self.rocks_collected)\n",
    "\n",
    "    def move_forward(self):\n",
    "        # Simulated action of moving the rover forward\n",
    "        print(\"Moving forward...\")\n",
    "\n",
    "    def run(self, num_iterations):\n",
    "        for i in range(num_iterations):\n",
    "            sensed_environment = self.sense_environment()\n",
    "            self.take_action(sensed_environment)\n",
    "\n",
    "rover = MarsRoverAgent()\n",
    "rover.run(10)\n"
   ]
  },
  {
   "cell_type": "markdown",
   "id": "5f263fdc-b762-4794-b5a2-b0948dd5fe77",
   "metadata": {},
   "source": [
    "In this code, we define a class MarsRoverAgent that represents our learning agent. It has methods such as sense_environment to simulate sensing the environment, take_action to determine the appropriate action based on the sensed environment, pick_rock to handle picking up a rock, and move_forward to handle moving the rover forward.\n",
    "\n",
    "The run method is used to simulate a certain number of iterations or steps. In each iteration, the agent senses the environment, takes an action based on the sensed information, and repeats the process."
   ]
  }
 ],
 "metadata": {
  "kernelspec": {
   "display_name": "Python 3 (ipykernel)",
   "language": "python",
   "name": "python3"
  },
  "language_info": {
   "codemirror_mode": {
    "name": "ipython",
    "version": 3
   },
   "file_extension": ".py",
   "mimetype": "text/x-python",
   "name": "python",
   "nbconvert_exporter": "python",
   "pygments_lexer": "ipython3",
   "version": "3.10.9"
  }
 },
 "nbformat": 4,
 "nbformat_minor": 5
}
