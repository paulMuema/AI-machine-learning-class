{
 "cells": [
  {
   "cell_type": "code",
   "execution_count": null,
   "id": "d40a4135",
   "metadata": {},
   "outputs": [],
   "source": [
    "import constraint\n",
    "problem = constraint.Problem()\n",
    "\n",
    "#Adding variables and domains\n",
    "problem.addVariable(\"x\", [1, 2, 3])\n",
    "problem.addVariable(\"y\", range(10))\n",
    "\n",
    "#creating the function\n",
    "def myConstraint(x, y):\n",
    "    if x + y >= 5:\n",
    "        return True\n",
    "    \n",
    "problem.addConstraint(myConstraint, [\"x\", \"y\"])\n",
    "solutions = problem.getSolutions()\n",
    "for s in solutions:\n",
    "    print(s)"
   ]
  },
  {
   "cell_type": "code",
   "execution_count": null,
   "id": "2908199f",
   "metadata": {},
   "outputs": [],
   "source": [
    "import constraint\n",
    "problem = constraint.Problem()\n",
    "\n",
    "problem.addVariable(\"p\", range(1, 100))\n",
    "problem.addVariable(\"q\", range(1, 100))\n",
    "problem.addVariable(\"r\", range(1, 100))\n",
    "\n",
    "def numConstraint(p, q, r):\n",
    "    if p + q + r >= 80:\n",
    "        return True\n",
    "    \n",
    "def priceConstraint(p, q, r):\n",
    "    if (p * 1 + q * 5 + r * 10) == 100:\n",
    "        return True\n",
    "\n",
    "problem.addConstraint(numConstraint, [\"p\", \"q\", \"r\"])\n",
    "problem.addConstraint(priceConstraint, [\"p\", \"q\", \"r\"])\n",
    "\n",
    "solutions = problem.getSolutions()\n",
    "\n",
    "for s in solutions:\n",
    "    print (s)"
   ]
  },
  {
   "cell_type": "code",
   "execution_count": null,
   "id": "80287bf1",
   "metadata": {},
   "outputs": [],
   "source": [
    "#variables, domains and constraints\n",
    "import constraint\n",
    "problem = constraint.Problem()\n",
    "\n",
    "#user enters amount of cash and the cost of the items\n",
    "cost = int(input(\"Enter the cost of the drink: \"))\n",
    "cash = 0\n",
    "while ((cash < cost) or (cash > 50)):\n",
    "    cash = int(input(\"Enter cash: \"))\n",
    "\n",
    "#range of the number of coins that can be issued by variable\n",
    "problem.addVariable(\"a\", range(6))\n",
    "problem.addVariable(\"b\", range(5))\n",
    "problem.addVariable(\"c\", range(3))\n",
    "problem.addVariable(\"d\", range(3))\n",
    "problem.addVariable(\"e\", range(2))\n",
    "\n",
    "def balanceConstraint(a, b, c, d, e):\n",
    "    if (a * 1 + b * 5 + c * 10 + d * 20 + e * 40) == (cash - cost):\n",
    "            return True\n",
    "\n",
    "problem.addConstraint(balanceConstraint, [\"a\", \"b\", \"c\", \"d\", \"e\"])\n",
    "solutions = problem.getSolutions()\n",
    "\n",
    "\n",
    "#optimization - the best solution\n",
    "coins = 10000\n",
    "for s in solutions:\n",
    "    coinCount = s[\"a\"] + s[\"b\"] + s[\"c\"] + s[\"d\"] + s[\"e\"]\n",
    "    print(s)\n",
    "    \n",
    "    if coinCount < coins:\n",
    "        coins = coinCount\n",
    "        bestSolution = s\n",
    "print(\"Best solution is\", bestSolution)"
   ]
  },
  {
   "cell_type": "markdown",
   "id": "b3a4077a",
   "metadata": {},
   "source": [
    "#inferences\n",
    "from kanren import run, eq, membero, var\n",
    "from kanren.constraints import neq, isinstanceo\n",
    "p,q = var(), var()\n",
    "\n",
    "#Modus ponens - states that if P and P-Q is true, then we can infer that Q will be true.\n",
    "print(run(0, q, eq(p, q), membero(p, (True, False)), membero(q, (True, False)), eq(p, True)))\n",
    "\n",
    "- Kanren enables expression of relations and search for values which satisfy them."
   ]
  },
  {
   "cell_type": "code",
   "execution_count": null,
   "id": "7e8093ee",
   "metadata": {},
   "outputs": [],
   "source": [
    "from kanren import *\n",
    "\n",
    "tools = Relation()\n",
    "\n",
    "facts(tools, (\"Language\", \"Java\"),\n",
    "             (\"Language\", \"Python\"),\n",
    "             (\"Package\", \"Word\"),\n",
    "             (\"Package\", \"Excel\"),\n",
    "             (\"OS\", \"Windows\"),\n",
    "             (\"OS\", \"Linux\"))\n",
    "\n",
    "tools_v = var()\n",
    "print(run(0, tools_v, tools(tools_v, \"Java\")))"
   ]
  },
  {
   "cell_type": "code",
   "execution_count": null,
   "id": "58a34fe4",
   "metadata": {},
   "outputs": [],
   "source": [
    "!pip install --upgrade kanren unification"
   ]
  },
  {
   "cell_type": "code",
   "execution_count": null,
   "id": "621dcbe0",
   "metadata": {},
   "outputs": [],
   "source": [
    "from kanren import *\n",
    "\n",
    "#creating the facts\n",
    "color = Relation()\n",
    "likes = Relation()\n",
    "facts(likes, (\"avocado\",\"Jeff\"),\n",
    "             (\"carrot\",\"Jeff\"),\n",
    "             (\"baseball\",\"Jeff\"),\n",
    "             (\"avocado\",\"Bill\"),\n",
    "             (\"baseball\",\"Bill\"),\n",
    "             (\"tomato\",\"Steve\"),\n",
    "             (\"baseball\",\"Steve\"),\n",
    "             (\"brocolli\",\"Mary\"),\n",
    "             (\"baseball\",\"Peter\"))\n",
    "\n",
    "facts(color, (\"avocado\", \"green\"),\n",
    "             (\"carrot\", \"orange\"),\n",
    "             (\"brocolli\", \"green\"),\n",
    "             (\"tomato\", \"red\"),\n",
    "             (\"capiscum\", \"red\"))\n",
    "\n",
    "food_v, color_v, person_v, veg_v = var(), var(), var(), var(\"Yes\")\n",
    "\n",
    "#Which green food is Jeff eating\n",
    "print(run(0, food_v, likes(food_v, \"Jeff\"), color(food_v, \"green\")))\n",
    "\n",
    "#who eats green food and likes baseball and is not Jeff\n",
    "from kanren.constraints import neq\n",
    "print(run(0, person_v, likes(\"baseball\", person_v),likes(food_v, person_v),\n",
    "         color(food_v, \"green\"), neq(person_v, \"Jeff\")))"
   ]
  },
  {
   "cell_type": "code",
   "execution_count": null,
   "id": "397d0ac7",
   "metadata": {},
   "outputs": [],
   "source": [
    "!pip uninstall kanren unification"
   ]
  },
  {
   "cell_type": "code",
   "execution_count": 1,
   "id": "b8f60908",
   "metadata": {},
   "outputs": [
    {
     "name": "stdout",
     "output_type": "stream",
     "text": [
      "Requirement already satisfied: pulp in c:\\users\\hp\\anaconda3\\lib\\site-packages (2.7.0)\n"
     ]
    }
   ],
   "source": [
    " !pip install pulp"
   ]
  },
  {
   "cell_type": "code",
   "execution_count": 3,
   "id": "6fa5e46d",
   "metadata": {},
   "outputs": [
    {
     "name": "stdout",
     "output_type": "stream",
     "text": [
      "Problem:\n",
      "MINIMIZE\n",
      "3*x + 5*y + 0\n",
      "SUBJECT TO\n",
      "_C1: 2 x + 3 y >= 12\n",
      "\n",
      "_C2: - x + y <= 3\n",
      "\n",
      "_C3: x >= 4\n",
      "\n",
      "_C4: y <= 3\n",
      "\n",
      "VARIABLES\n",
      "x Continuous\n",
      "y Continuous\n",
      "\n",
      "Optimal\n",
      "6.0 0.0 18.0\n"
     ]
    }
   ],
   "source": [
    "#pulp library which provides tools for linear programming and optimization\n",
    "import pulp\n",
    "\n",
    "#create a lp minimization problem\n",
    "#Lp_prob is a variable\n",
    "#we are solving a minimization problem\n",
    "Lp_prob = pulp.LpProblem(\"Problem\", pulp.LpMinimize)\n",
    "\n",
    "#Create problem variables\n",
    "x = pulp.LpVariable(\"x\", lowBound = 0) #creates variable x >= 0\n",
    "y = pulp.LpVariable(\"y\", lowBound = 0) #creates a variable y >= 0\n",
    "\n",
    "#Objective function\n",
    "Lp_prob += 3 * x + 5 * y\n",
    "Lp_prob += 2 * x + 3 * y >= 12\n",
    "Lp_prob += -1 * x + 1 * y <= 3\n",
    "Lp_prob += x >= 4\n",
    "Lp_prob += y <= 3\n",
    "\n",
    "status = Lp_prob.solve() #solve\n",
    "\n",
    "#Display\n",
    "print(Lp_prob)\n",
    "print(pulp.LpStatus[status])\n",
    "print(pulp.value(x), pulp.value(y), pulp.value(Lp_prob.objective))"
   ]
  },
  {
   "cell_type": "code",
   "execution_count": null,
   "id": "74dfd730",
   "metadata": {},
   "outputs": [],
   "source": [
    "import operator\n",
    "\n",
    "class environment():\n",
    "    mygraph = {\"1\":set([\"2\", \"4\"]),\n",
    "              \"2\":set([\"1\", \"5\", \"3\"])}\n",
    "    \n",
    "    cost = {str([\"1\", \"2\"]):\"3\", str([\"1\", \"4\"]):\"5\"\n",
    "           }\n",
    "    \n",
    "    myheuristics = {\"1\":[\"1\", \"3\"]}"
   ]
  }
 ],
 "metadata": {
  "kernelspec": {
   "display_name": "Python 3 (ipykernel)",
   "language": "python",
   "name": "python3"
  },
  "language_info": {
   "codemirror_mode": {
    "name": "ipython",
    "version": 3
   },
   "file_extension": ".py",
   "mimetype": "text/x-python",
   "name": "python",
   "nbconvert_exporter": "python",
   "pygments_lexer": "ipython3",
   "version": "3.10.9"
  }
 },
 "nbformat": 4,
 "nbformat_minor": 5
}
